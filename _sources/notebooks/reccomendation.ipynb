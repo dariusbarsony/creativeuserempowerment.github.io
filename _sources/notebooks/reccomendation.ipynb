{
 "cells": [
  {
   "cell_type": "code",
   "execution_count": null,
   "metadata": {},
   "outputs": [
    {
     "ename": "",
     "evalue": "",
     "output_type": "error",
     "traceback": [
      "\u001b[1;31mFailed to start the Kernel. \n",
      "\u001b[1;31mView Jupyter <a href='command:jupyter.viewOutput'>log</a> for further details."
     ]
    }
   ],
   "source": [
    "import numpy as np\n",
    "from sklearn.feature_extraction.text import TfidfVectorizer\n",
    "\n",
    "class ContentBasedRecommender:\n",
    "    def __init__(self):\n",
    "        # Initialize the vectorizer and fit it to the item descriptions\n",
    "        self.vectorizer = TfidfVectorizer()\n",
    "        self.item_descriptions = [\n",
    "            \"Item 1 description\",\n",
    "            \"Item 2 description\",\n",
    "            ...\n",
    "        ]\n",
    "        self.vectorizer.fit(self.item_descriptions)\n",
    "        \n",
    "    def recommend(self, user_preferences):\n",
    "        # Transform the user preferences into a feature vector\n",
    "        user_vector = self.vectorizer.transform([user_preferences])\n",
    "        \n",
    "        # Compute the dot product between the user vector and the item vectors\n",
    "        item_vectors = self.vectorizer.transform(self.item_descriptions)\n",
    "        scores = np.dot(user_vector, item_vectors.T).flatten()\n",
    "        \n",
    "        # Rank the items by score and return the top N recommendations\n",
    "        top_n = 10\n",
    "        recommendations = np.argpartition(-scores, top_n)[:top_n]\n",
    "        return recommendations\n",
    "\n",
    "# Example usage\n",
    "recommender = ContentBasedRecommender()\n",
    "user_preferences = \"Text describing the user's preferences\"\n",
    "recommendations = recommender.recommend(user_preferences)\n",
    "print(recommendations)  # Outputs: array of indices of the top N recommendations\n"
   ]
  },
  {
   "cell_type": "code",
   "execution_count": null,
   "metadata": {},
   "outputs": [],
   "source": []
  }
 ],
 "metadata": {
  "kernelspec": {
   "display_name": "airogs",
   "language": "python",
   "name": "airogs"
  },
  "language_info": {
   "name": "python",
   "version": "3.9.7 (default, Sep 16 2021, 13:09:58) \n[GCC 7.5.0]"
  },
  "orig_nbformat": 4,
  "vscode": {
   "interpreter": {
    "hash": "8e284ee3255a07ad8bf76694974743c4c81cb57e7c969474d752d949b11d721e"
   }
  }
 },
 "nbformat": 4,
 "nbformat_minor": 2
}
