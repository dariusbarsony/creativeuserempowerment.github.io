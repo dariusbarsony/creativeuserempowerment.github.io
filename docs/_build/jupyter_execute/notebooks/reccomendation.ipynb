{
 "cells": [
  {
   "cell_type": "code",
   "execution_count": 1,
   "metadata": {},
   "outputs": [
    {
     "ename": "ModuleNotFoundError",
     "evalue": "No module named 'sklearn'",
     "output_type": "error",
     "traceback": [
      "\u001b[0;31m---------------------------------------------------------------------------\u001b[0m",
      "\u001b[0;31mModuleNotFoundError\u001b[0m                       Traceback (most recent call last)",
      "Input \u001b[0;32mIn [1]\u001b[0m, in \u001b[0;36m<cell line: 2>\u001b[0;34m()\u001b[0m\n\u001b[1;32m      1\u001b[0m \u001b[38;5;28;01mimport\u001b[39;00m \u001b[38;5;21;01mnumpy\u001b[39;00m \u001b[38;5;28;01mas\u001b[39;00m \u001b[38;5;21;01mnp\u001b[39;00m\n\u001b[0;32m----> 2\u001b[0m \u001b[38;5;28;01mfrom\u001b[39;00m \u001b[38;5;21;01msklearn\u001b[39;00m\u001b[38;5;21;01m.\u001b[39;00m\u001b[38;5;21;01mfeature_extraction\u001b[39;00m\u001b[38;5;21;01m.\u001b[39;00m\u001b[38;5;21;01mtext\u001b[39;00m \u001b[38;5;28;01mimport\u001b[39;00m TfidfVectorizer\n\u001b[1;32m      4\u001b[0m \u001b[38;5;28;01mclass\u001b[39;00m \u001b[38;5;21;01mContentBasedRecommender\u001b[39;00m:\n\u001b[1;32m      5\u001b[0m     \u001b[38;5;28;01mdef\u001b[39;00m \u001b[38;5;21m__init__\u001b[39m(\u001b[38;5;28mself\u001b[39m):\n\u001b[1;32m      6\u001b[0m         \u001b[38;5;66;03m# Initialize the vectorizer and fit it to the item descriptions\u001b[39;00m\n",
      "\u001b[0;31mModuleNotFoundError\u001b[0m: No module named 'sklearn'"
     ]
    }
   ],
   "source": [
    "import numpy as np\n",
    "from sklearn.feature_extraction.text import TfidfVectorizer\n",
    "\n",
    "class ContentBasedRecommender:\n",
    "    def __init__(self):\n",
    "        # Initialize the vectorizer and fit it to the item descriptions\n",
    "        self.vectorizer = TfidfVectorizer()\n",
    "        self.item_descriptions = [\n",
    "            \"Item 1 description\",\n",
    "            \"Item 2 description\",\n",
    "            ...\n",
    "        ]\n",
    "        self.vectorizer.fit(self.item_descriptions)\n",
    "        \n",
    "    def recommend(self, user_preferences):\n",
    "        # Transform the user preferences into a feature vector\n",
    "        user_vector = self.vectorizer.transform([user_preferences])\n",
    "        \n",
    "        # Compute the dot product between the user vector and the item vectors\n",
    "        item_vectors = self.vectorizer.transform(self.item_descriptions)\n",
    "        scores = np.dot(user_vector, item_vectors.T).flatten()\n",
    "        \n",
    "        # Rank the items by score and return the top N recommendations\n",
    "        top_n = 10\n",
    "        recommendations = np.argpartition(-scores, top_n)[:top_n]\n",
    "        return recommendations\n",
    "\n",
    "# Example usage\n",
    "recommender = ContentBasedRecommender()\n",
    "user_preferences = \"Text describing the user's preferences\"\n",
    "recommendations = recommender.recommend(user_preferences)\n",
    "print(recommendations)  # Outputs: array of indices of the top N recommendations\n"
   ]
  },
  {
   "cell_type": "code",
   "execution_count": null,
   "metadata": {},
   "outputs": [],
   "source": []
  }
 ],
 "metadata": {
  "kernelspec": {
   "display_name": "airogs",
   "language": "python",
   "name": "airogs"
  },
  "language_info": {
   "codemirror_mode": {
    "name": "ipython",
    "version": 3
   },
   "file_extension": ".py",
   "mimetype": "text/x-python",
   "name": "python",
   "nbconvert_exporter": "python",
   "pygments_lexer": "ipython3",
   "version": "3.9.7"
  },
  "vscode": {
   "interpreter": {
    "hash": "8e284ee3255a07ad8bf76694974743c4c81cb57e7c969474d752d949b11d721e"
   }
  }
 },
 "nbformat": 4,
 "nbformat_minor": 2
}