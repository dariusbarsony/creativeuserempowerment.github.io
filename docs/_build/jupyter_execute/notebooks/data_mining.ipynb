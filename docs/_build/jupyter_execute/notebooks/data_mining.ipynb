{
 "cells": [
  {
   "cell_type": "code",
   "execution_count": 1,
   "id": "e8e2fc47",
   "metadata": {},
   "outputs": [],
   "source": [
    "from bs4 import BeautifulSoup as BS\n",
    "import requests\n",
    "    \n",
    "text = requests.get('https://lib.uva.nl/discovery/search?query=any,contains,APM13823&tab=Everything&search_scope=DN_and_CI_and_PURE&vid=31UKB_UAM1_INST:UVA&offset=0').text\n",
    "soup = BS(text)"
   ]
  },
  {
   "cell_type": "code",
   "execution_count": 2,
   "id": "75cc83ad",
   "metadata": {},
   "outputs": [
    {
     "data": {
      "text/plain": [
       "<!DOCTYPE html>\n",
       "<html id=\"primoExploreRoot\" lang=\"en\" style=\"overflow-y: scroll;\"><head><meta charset=\"utf-8\"/><meta content=\"initial-scale=1,width=device-width,shrink-to-fit=no\" name=\"viewport\"/><meta content=\"IE=edge\" http-equiv=\"X-UA-Compatible\"/><meta content=\"\" name=\"description\"/><meta content=\"\" name=\"keywords\"/><meta content=\"\" id=\"ogTitle\" property=\"og:title\"/><meta content=\"\" id=\"ogDescription\" property=\"og:description\"/><meta content=\"\" id=\"ogImage\" property=\"og:image\"/><meta content=\"website\" id=\"ogType\" property=\"og:type\"/><meta content=\"\" id=\"ogURL\" property=\"og:url\"/><meta content=\"noindex\" name=\"robots\"/><base href=\"/discovery/\"/><title id=\"primoExploreTitle\"></title><link href=\"\" id=\"sharedCustomerFavIcon\" rel=\"apple-touch-icon-precomposed\"/><link href=\"\" id=\"viewCustomerFavIcon\" rel=\"icon\"/><link href=\"\" id=\"viewHomeScreenCustomerIconAndroid\" rel=\"icon\"/><link href=\"\" id=\"viewHomeScreenCustomerIconIos\" rel=\"apple-touch-icon\"/><link href=\"\" id=\"canonicalFullDisplay\" rel=\"canonical\"/><link href=\"\" rel=\"apple-touch-icon-precomposed\"/><link href=\"\" rel=\"icon\"/><link href=\"fonts/source-sans-pro-2.020R-ro-1.075R-it/source-sans-pro.css?version=d4ab211e8f&amp;family=Source+Sans+Pro:400,300,600,700,400italic\" rel=\"stylesheet\" type=\"text/css\"/><link href=\"lib/vendor.css?version=a2e36546a1\" rel=\"stylesheet\"/><link href=\"lib/app.css?version=5c9b6ff6eb\" rel=\"stylesheet\"/></head><body><script>window.appPerformance= {};\n",
       "    window.appPerformance.timeStamps={};\n",
       "    window.appPerformance.timeStamps['index.html']= Date.now();</script><script type=\"application/ld+json\"></script><primo-explore><noscript>JavaScript must be enabled to use the system</noscript><style>.init-message {\n",
       "      font-size: 18px;\n",
       "      font-weight: 600;\n",
       "      position: absolute;\n",
       "      height: 100px;\n",
       "      width: 200px;\n",
       "      margin: auto;\n",
       "      top: 0;\n",
       "      bottom: 0;\n",
       "      right: 0;\n",
       "      left: 0;\n",
       "      text-align: center;\n",
       "    }\n",
       "    .init-message .graphic {\n",
       "      height: 80px;\n",
       "    }\n",
       "    .init-message .loader {\n",
       "      transform: rotate(90deg);\n",
       "      transform-origin: 25%;\n",
       "    }\n",
       "    .init-message .loader .diamond {\n",
       "        position: absolute;\n",
       "        background-color: currentColor;\n",
       "        left: 0;\n",
       "        right: 0;\n",
       "        bottom: 0;\n",
       "        margin: 0 auto;\n",
       "        width: 1.2em;\n",
       "        height: 1.2em;\n",
       "        border-radius: 2px;\n",
       "        -webkit-transform: translateY(0) rotate(45deg) scale(0);\n",
       "        transform: translateY(0) rotate(45deg) scale(0);\n",
       "        -webkit-animation: diamonds 1.5s linear infinite;\n",
       "                animation: diamonds 1.5s linear infinite\n",
       "    }\n",
       "    .init-message .loader .diamond:nth-child(1) {\n",
       "        -webkit-animation-delay: -1s;\n",
       "                animation-delay: -1s\n",
       "    }\n",
       "\n",
       "    .init-message .loader .diamond:nth-child(2) {\n",
       "        -webkit-animation-delay: -2s;\n",
       "                animation-delay: -2s\n",
       "    }\n",
       "\n",
       "    .init-message .loader .diamond:nth-child(3) {\n",
       "        -webkit-animation-delay: -3s;\n",
       "                animation-delay: -3s\n",
       "    }\n",
       "\n",
       "    .init-message .loader .diamond:nth-child(4) {\n",
       "        -webkit-animation-delay: -4s;\n",
       "                animation-delay: -4s\n",
       "    }\n",
       "    @-webkit-keyframes diamonds {\n",
       "        50% {\n",
       "            -webkit-transform: translateY(-2em) rotate(45deg) scale(1);\n",
       "                    transform: translateY(-2em) rotate(45deg) scale(1)\n",
       "        }\n",
       "        to {\n",
       "            -webkit-transform: translateY(-4em) rotate(45deg) scale(0);\n",
       "                    transform: translateY(-4em) rotate(45deg) scale(0)\n",
       "        }\n",
       "    }\n",
       "    @keyframes diamonds {\n",
       "        50% {\n",
       "            -webkit-transform: translateY(-2em) rotate(45deg) scale(1);\n",
       "                    transform: translateY(-2em) rotate(45deg) scale(1)\n",
       "        }\n",
       "        to {\n",
       "            -webkit-transform: translateY(-4em) rotate(45deg) scale(0);\n",
       "                    transform: translateY(-4em) rotate(45deg) scale(0)\n",
       "        }\n",
       "    }</style><div class=\"init-message\"><div class=\"graphic\"><div class=\"loader\"><div class=\"diamond\"></div><div class=\"diamond\"></div><div class=\"diamond\"></div></div></div></div></primo-explore><div id=\"beaconPlaceHolder\"></div><script src=\"lib/angular.js?version=4b036d9fe7\"></script><script src=\"lib/bootstrap_bundle.js?version=77b0e48abc&amp;version=1c80a03e86\"></script><script src=\"lib/bundle.js?version=77b0e48abc\"></script><link href=\"lib/bower_components/pdfjs-viewer/locale/locale.properties\" rel=\"resource\" type=\"application/l10n\"/><script src=\"lib/bower_components/video.js/dist/video.js\"></script><script src=\"lib/bower_components/openseadragon/openseadragon.js\"></script></body></html>"
      ]
     },
     "execution_count": 2,
     "metadata": {},
     "output_type": "execute_result"
    }
   ],
   "source": [
    "soup"
   ]
  },
  {
   "cell_type": "code",
   "execution_count": null,
   "id": "75f6ee63",
   "metadata": {},
   "outputs": [],
   "source": []
  }
 ],
 "metadata": {
  "kernelspec": {
   "display_name": "Python 3 (ipykernel)",
   "language": "python",
   "name": "python3"
  },
  "language_info": {
   "codemirror_mode": {
    "name": "ipython",
    "version": 3
   },
   "file_extension": ".py",
   "mimetype": "text/x-python",
   "name": "python",
   "nbconvert_exporter": "python",
   "pygments_lexer": "ipython3",
   "version": "3.9.12"
  }
 },
 "nbformat": 4,
 "nbformat_minor": 5
}