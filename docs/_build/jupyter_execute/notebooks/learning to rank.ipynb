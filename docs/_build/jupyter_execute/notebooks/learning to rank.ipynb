{
 "cells": [
  {
   "cell_type": "code",
   "execution_count": 1,
   "id": "59164280",
   "metadata": {},
   "outputs": [],
   "source": [
    "import pandas as pd"
   ]
  },
  {
   "cell_type": "code",
   "execution_count": 2,
   "id": "ba03de27",
   "metadata": {},
   "outputs": [
    {
     "ename": "NameError",
     "evalue": "name 'filename' is not defined",
     "output_type": "error",
     "traceback": [
      "\u001b[0;31m---------------------------------------------------------------------------\u001b[0m",
      "\u001b[0;31mNameError\u001b[0m                                 Traceback (most recent call last)",
      "Input \u001b[0;32mIn [2]\u001b[0m, in \u001b[0;36m<cell line: 2>\u001b[0;34m()\u001b[0m\n\u001b[1;32m      1\u001b[0m filename_queries \u001b[38;5;241m=\u001b[39m \u001b[38;5;124m'\u001b[39m\u001b[38;5;124m../data/catalogs/crossroads.csv\u001b[39m\u001b[38;5;124m'\u001b[39m\n\u001b[0;32m----> 2\u001b[0m queries \u001b[38;5;241m=\u001b[39m pd\u001b[38;5;241m.\u001b[39mread_csv(\u001b[43mfilename\u001b[49m)\n",
      "\u001b[0;31mNameError\u001b[0m: name 'filename' is not defined"
     ]
    }
   ],
   "source": [
    "filename_queries = '../data/catalogs/crossroads.csv'\n",
    "queries = pd.read_csv(filename)"
   ]
  },
  {
   "cell_type": "code",
   "execution_count": null,
   "id": "1344de21",
   "metadata": {},
   "outputs": [],
   "source": [
    "queries"
   ]
  },
  {
   "cell_type": "code",
   "execution_count": null,
   "id": "f139bd73",
   "metadata": {},
   "outputs": [],
   "source": [
    "filename_documents = '../data/CUE/uva_alma_beeldbank_dc_new.xml'\n",
    "documents = pd.read_xml(filename_documents)"
   ]
  },
  {
   "cell_type": "code",
   "execution_count": null,
   "id": "dd38166c",
   "metadata": {},
   "outputs": [],
   "source": [
    "documents"
   ]
  },
  {
   "cell_type": "code",
   "execution_count": null,
   "id": "6276e0b7",
   "metadata": {},
   "outputs": [],
   "source": [
    "from nltk.tokenize import RegexpTokenizer\n",
    "\n",
    "tokenizer = RegexpTokenizer(r'\\w+')\n",
    "query = tokenizer.tokenize(queries['text'].iloc[0])"
   ]
  },
  {
   "cell_type": "code",
   "execution_count": null,
   "id": "518ec9a5",
   "metadata": {},
   "outputs": [],
   "source": [
    "len(query)"
   ]
  },
  {
   "cell_type": "code",
   "execution_count": null,
   "id": "4e195748",
   "metadata": {},
   "outputs": [],
   "source": [
    "from nltk.corpus import stopwords\n",
    "\n",
    "stop_words = set(stopwords.words('english'))\n",
    "filtered_sentence = [w for w in query if not w.lower() in stop_words]"
   ]
  },
  {
   "cell_type": "code",
   "execution_count": null,
   "id": "efd0bbee",
   "metadata": {},
   "outputs": [],
   "source": [
    "len(filtered_sentence)"
   ]
  },
  {
   "cell_type": "code",
   "execution_count": null,
   "id": "24923c9b",
   "metadata": {},
   "outputs": [],
   "source": [
    "filtered_sentence = [w.lower() for w in filtered_sentence if not w.lower().isdigit()]"
   ]
  },
  {
   "cell_type": "code",
   "execution_count": null,
   "id": "3821cdb1",
   "metadata": {},
   "outputs": [],
   "source": [
    "len(filtered_sentence)"
   ]
  },
  {
   "cell_type": "markdown",
   "id": "8660794c",
   "metadata": {},
   "source": [
    "### stemming"
   ]
  },
  {
   "cell_type": "code",
   "execution_count": null,
   "id": "41b60e82",
   "metadata": {},
   "outputs": [],
   "source": [
    "from nltk.stem.snowball import SnowballStemmer"
   ]
  },
  {
   "cell_type": "code",
   "execution_count": null,
   "id": "389da060",
   "metadata": {},
   "outputs": [],
   "source": [
    "stemmer = SnowballStemmer(\"english\")"
   ]
  },
  {
   "cell_type": "code",
   "execution_count": null,
   "id": "11807f29",
   "metadata": {},
   "outputs": [],
   "source": [
    "filtered_sentence = [stemmer.stem(w) for w in filtered_sentence]"
   ]
  },
  {
   "cell_type": "code",
   "execution_count": null,
   "id": "9a6b57ff",
   "metadata": {},
   "outputs": [],
   "source": [
    "\" \".join(filtered_sentence)"
   ]
  },
  {
   "cell_type": "markdown",
   "id": "d10f5dae",
   "metadata": {},
   "source": [
    "### process document"
   ]
  },
  {
   "cell_type": "code",
   "execution_count": null,
   "id": "055efe01",
   "metadata": {},
   "outputs": [],
   "source": [
    "document = tokenizer.tokenize(documents['title'].iloc[0])"
   ]
  },
  {
   "cell_type": "code",
   "execution_count": null,
   "id": "007b2750",
   "metadata": {},
   "outputs": [],
   "source": [
    "len(document)"
   ]
  },
  {
   "cell_type": "code",
   "execution_count": null,
   "id": "4d18a6ee",
   "metadata": {},
   "outputs": [],
   "source": [
    "filtered_document = [w for w in document if not w.lower() in stop_words]"
   ]
  },
  {
   "cell_type": "code",
   "execution_count": null,
   "id": "1bafb458",
   "metadata": {},
   "outputs": [],
   "source": [
    "len(filtered_document)"
   ]
  },
  {
   "cell_type": "code",
   "execution_count": null,
   "id": "4d2b80a6",
   "metadata": {},
   "outputs": [],
   "source": [
    "filtered_document = [w.lower() for w in filtered_document if not w.lower().isdigit()]"
   ]
  },
  {
   "cell_type": "code",
   "execution_count": null,
   "id": "c6d052f5",
   "metadata": {},
   "outputs": [],
   "source": [
    "filtered_document"
   ]
  },
  {
   "cell_type": "markdown",
   "id": "7862e6c4",
   "metadata": {},
   "source": [
    "### vector "
   ]
  },
  {
   "cell_type": "code",
   "execution_count": null,
   "id": "62ff8f0d",
   "metadata": {},
   "outputs": [],
   "source": [
    "from sklearn.feature_extraction.text import TfidfVectorizer"
   ]
  },
  {
   "cell_type": "code",
   "execution_count": null,
   "id": "f5a20ece",
   "metadata": {},
   "outputs": [],
   "source": [
    "model = TfidfVectorizer()"
   ]
  },
  {
   "cell_type": "code",
   "execution_count": null,
   "id": "779c9e85",
   "metadata": {},
   "outputs": [],
   "source": [
    "tfidf.fit_transform([\" \".join(filtered_sentence)])"
   ]
  },
  {
   "cell_type": "code",
   "execution_count": null,
   "id": "662a0a9e",
   "metadata": {},
   "outputs": [],
   "source": [
    "analyze = vectorizer.build_analyzer()\n",
    "analyze(\"This is a text document to analyze.\") == (['this', 'is', 'text', 'document', 'to', 'analyze'])"
   ]
  },
  {
   "cell_type": "code",
   "execution_count": null,
   "id": "82219328",
   "metadata": {},
   "outputs": [],
   "source": [
    "analyze"
   ]
  },
  {
   "cell_type": "code",
   "execution_count": null,
   "id": "16d12f27",
   "metadata": {},
   "outputs": [],
   "source": []
  }
 ],
 "metadata": {
  "kernelspec": {
   "display_name": "Python 3 (ipykernel)",
   "language": "python",
   "name": "python3"
  },
  "language_info": {
   "codemirror_mode": {
    "name": "ipython",
    "version": 3
   },
   "file_extension": ".py",
   "mimetype": "text/x-python",
   "name": "python",
   "nbconvert_exporter": "python",
   "pygments_lexer": "ipython3",
   "version": "3.9.12"
  }
 },
 "nbformat": 4,
 "nbformat_minor": 5
}